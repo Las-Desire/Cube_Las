{
 "cells": [
  {
   "cell_type": "code",
   "execution_count": 1,
   "metadata": {},
   "outputs": [
    {
     "name": "stderr",
     "output_type": "stream",
     "text": [
      "D:\\LLAS\\lib\\site-packages\\h5py\\__init__.py:36: FutureWarning: Conversion of the second argument of issubdtype from `float` to `np.floating` is deprecated. In future, it will be treated as `np.float64 == np.dtype(float).type`.\n",
      "  from ._conv import register_converters as _register_converters\n",
      "Using TensorFlow backend.\n"
     ]
    }
   ],
   "source": [
    "import keras\n",
    "import numpy as np\n",
    "import matplotlib.pyplot as pp"
   ]
  },
  {
   "cell_type": "code",
   "execution_count": 7,
   "metadata": {},
   "outputs": [
    {
     "name": "stdout",
     "output_type": "stream",
     "text": [
      "Using matplotlib backend: Qt5Agg\n"
     ]
    },
    {
     "data": {
      "text/plain": [
       "[<matplotlib.lines.Line2D at 0x28a780e9668>]"
      ]
     },
     "execution_count": 7,
     "metadata": {},
     "output_type": "execute_result"
    }
   ],
   "source": [
    "%matplotlib\n",
    "X=np.arange(-5,5,0.01)\n",
    "Y=[]\n",
    "Y_=[]\n",
    "Y__=[]\n",
    "for i in X:\n",
    "    value=np.random.random()\n",
    "    if(value>0.80):\n",
    "        q=np.sin(i)\n",
    "        Y__.append([i,q])\n",
    "        Y.append(q)\n",
    "    else:\n",
    "        q=(np.random.random()-0.5)*2\n",
    "        Y.append(q)\n",
    "pp.plot(X,Y,'ro')"
   ]
  },
  {
   "cell_type": "code",
   "execution_count": null,
   "metadata": {},
   "outputs": [],
   "source": []
  },
  {
   "cell_type": "code",
   "execution_count": 3,
   "metadata": {},
   "outputs": [],
   "source": [
    "model=keras.models.Sequential()\n",
    "model.add(layer=keras.layers.Dense(10,input_shape=(1,)))\n",
    "model.add(layer=keras.layers.Dense(100,activation='relu'))\n",
    "model.add(layer=keras.layers.Dense(200,activation='tanh'))\n",
    "model.add(layer=keras.layers.Dense(10,activation='tanh'))\n",
    "model.add(layer=keras.layers.Dense(1))"
   ]
  },
  {
   "cell_type": "code",
   "execution_count": 4,
   "metadata": {
    "scrolled": true
   },
   "outputs": [
    {
     "name": "stdout",
     "output_type": "stream",
     "text": [
      "Epoch 1/100\n",
      "1000/1000 [==============================] - 0s 417us/step - loss: 0.4058\n",
      "Epoch 2/100\n",
      "1000/1000 [==============================] - 0s 46us/step - loss: 0.3738\n",
      "Epoch 3/100\n",
      "1000/1000 [==============================] - 0s 53us/step - loss: 0.3632\n",
      "Epoch 4/100\n",
      "1000/1000 [==============================] - 0s 48us/step - loss: 0.3633\n",
      "Epoch 5/100\n",
      "1000/1000 [==============================] - 0s 49us/step - loss: 0.3623\n",
      "Epoch 6/100\n",
      "1000/1000 [==============================] - 0s 52us/step - loss: 0.3675\n",
      "Epoch 7/100\n",
      "1000/1000 [==============================] - 0s 50us/step - loss: 0.3660\n",
      "Epoch 8/100\n",
      "1000/1000 [==============================] - 0s 44us/step - loss: 0.3658\n",
      "Epoch 9/100\n",
      "1000/1000 [==============================] - 0s 47us/step - loss: 0.3649\n",
      "Epoch 10/100\n",
      "1000/1000 [==============================] - 0s 46us/step - loss: 0.3691\n",
      "Epoch 11/100\n",
      "1000/1000 [==============================] - 0s 49us/step - loss: 0.3667\n",
      "Epoch 12/100\n",
      "1000/1000 [==============================] - 0s 49us/step - loss: 0.3619\n",
      "Epoch 13/100\n",
      "1000/1000 [==============================] - 0s 51us/step - loss: 0.3607\n",
      "Epoch 14/100\n",
      "1000/1000 [==============================] - 0s 49us/step - loss: 0.3604\n",
      "Epoch 15/100\n",
      "1000/1000 [==============================] - 0s 47us/step - loss: 0.3596\n",
      "Epoch 16/100\n",
      "1000/1000 [==============================] - 0s 47us/step - loss: 0.3601\n",
      "Epoch 17/100\n",
      "1000/1000 [==============================] - 0s 47us/step - loss: 0.3596\n",
      "Epoch 18/100\n",
      "1000/1000 [==============================] - 0s 44us/step - loss: 0.3606\n",
      "Epoch 19/100\n",
      "1000/1000 [==============================] - 0s 58us/step - loss: 0.3612\n",
      "Epoch 20/100\n",
      "1000/1000 [==============================] - 0s 47us/step - loss: 0.3693\n",
      "Epoch 21/100\n",
      "1000/1000 [==============================] - 0s 47us/step - loss: 0.3638\n",
      "Epoch 22/100\n",
      "1000/1000 [==============================] - 0s 47us/step - loss: 0.3619\n",
      "Epoch 23/100\n",
      "1000/1000 [==============================] - 0s 46us/step - loss: 0.3609\n",
      "Epoch 24/100\n",
      "1000/1000 [==============================] - 0s 47us/step - loss: 0.3619\n",
      "Epoch 25/100\n",
      "1000/1000 [==============================] - 0s 45us/step - loss: 0.3607\n",
      "Epoch 26/100\n",
      "1000/1000 [==============================] - 0s 47us/step - loss: 0.3607\n",
      "Epoch 27/100\n",
      "1000/1000 [==============================] - 0s 47us/step - loss: 0.3621\n",
      "Epoch 28/100\n",
      "1000/1000 [==============================] - 0s 45us/step - loss: 0.3598\n",
      "Epoch 29/100\n",
      "1000/1000 [==============================] - 0s 47us/step - loss: 0.3591\n",
      "Epoch 30/100\n",
      "1000/1000 [==============================] - 0s 48us/step - loss: 0.3599\n",
      "Epoch 31/100\n",
      "1000/1000 [==============================] - 0s 48us/step - loss: 0.3607\n",
      "Epoch 32/100\n",
      "1000/1000 [==============================] - 0s 49us/step - loss: 0.3564\n",
      "Epoch 33/100\n",
      "1000/1000 [==============================] - 0s 48us/step - loss: 0.3663\n",
      "Epoch 34/100\n",
      "1000/1000 [==============================] - 0s 52us/step - loss: 0.3576\n",
      "Epoch 35/100\n",
      "1000/1000 [==============================] - 0s 48us/step - loss: 0.3612\n",
      "Epoch 36/100\n",
      "1000/1000 [==============================] - 0s 48us/step - loss: 0.3581\n",
      "Epoch 37/100\n",
      "1000/1000 [==============================] - 0s 48us/step - loss: 0.3578\n",
      "Epoch 38/100\n",
      "1000/1000 [==============================] - 0s 46us/step - loss: 0.3585\n",
      "Epoch 39/100\n",
      "1000/1000 [==============================] - 0s 45us/step - loss: 0.3604\n",
      "Epoch 40/100\n",
      "1000/1000 [==============================] - 0s 61us/step - loss: 0.3587\n",
      "Epoch 41/100\n",
      "1000/1000 [==============================] - 0s 46us/step - loss: 0.3585\n",
      "Epoch 42/100\n",
      "1000/1000 [==============================] - 0s 47us/step - loss: 0.3647\n",
      "Epoch 43/100\n",
      "1000/1000 [==============================] - 0s 46us/step - loss: 0.3623\n",
      "Epoch 44/100\n",
      "1000/1000 [==============================] - 0s 55us/step - loss: 0.3594\n",
      "Epoch 45/100\n",
      "1000/1000 [==============================] - 0s 46us/step - loss: 0.3585\n",
      "Epoch 46/100\n",
      "1000/1000 [==============================] - 0s 44us/step - loss: 0.3601\n",
      "Epoch 47/100\n",
      "1000/1000 [==============================] - 0s 48us/step - loss: 0.3580\n",
      "Epoch 48/100\n",
      "1000/1000 [==============================] - 0s 45us/step - loss: 0.3595\n",
      "Epoch 49/100\n",
      "1000/1000 [==============================] - 0s 47us/step - loss: 0.3610\n",
      "Epoch 50/100\n",
      "1000/1000 [==============================] - 0s 49us/step - loss: 0.3580\n",
      "Epoch 51/100\n",
      "1000/1000 [==============================] - 0s 44us/step - loss: 0.3588\n",
      "Epoch 52/100\n",
      "1000/1000 [==============================] - 0s 46us/step - loss: 0.3600\n",
      "Epoch 53/100\n",
      "1000/1000 [==============================] - 0s 48us/step - loss: 0.3581\n",
      "Epoch 54/100\n",
      "1000/1000 [==============================] - 0s 47us/step - loss: 0.3567\n",
      "Epoch 55/100\n",
      "1000/1000 [==============================] - 0s 47us/step - loss: 0.3613\n",
      "Epoch 56/100\n",
      "1000/1000 [==============================] - 0s 49us/step - loss: 0.3604\n",
      "Epoch 57/100\n",
      "1000/1000 [==============================] - 0s 49us/step - loss: 0.3593\n",
      "Epoch 58/100\n",
      "1000/1000 [==============================] - 0s 49us/step - loss: 0.3600\n",
      "Epoch 59/100\n",
      "1000/1000 [==============================] - 0s 49us/step - loss: 0.3602\n",
      "Epoch 60/100\n",
      "1000/1000 [==============================] - 0s 57us/step - loss: 0.3582\n",
      "Epoch 61/100\n",
      "1000/1000 [==============================] - 0s 47us/step - loss: 0.3595\n",
      "Epoch 62/100\n",
      "1000/1000 [==============================] - 0s 45us/step - loss: 0.3596\n",
      "Epoch 63/100\n",
      "1000/1000 [==============================] - 0s 46us/step - loss: 0.3584\n",
      "Epoch 64/100\n",
      "1000/1000 [==============================] - 0s 47us/step - loss: 0.3581\n",
      "Epoch 65/100\n",
      "1000/1000 [==============================] - 0s 43us/step - loss: 0.3582\n",
      "Epoch 66/100\n",
      "1000/1000 [==============================] - 0s 52us/step - loss: 0.3621\n",
      "Epoch 67/100\n",
      "1000/1000 [==============================] - 0s 60us/step - loss: 0.3575\n",
      "Epoch 68/100\n",
      "1000/1000 [==============================] - 0s 64us/step - loss: 0.3567\n",
      "Epoch 69/100\n",
      "1000/1000 [==============================] - 0s 55us/step - loss: 0.3569\n",
      "Epoch 70/100\n",
      "1000/1000 [==============================] - 0s 58us/step - loss: 0.3592\n",
      "Epoch 71/100\n",
      "1000/1000 [==============================] - 0s 56us/step - loss: 0.3592\n",
      "Epoch 72/100\n",
      "1000/1000 [==============================] - 0s 50us/step - loss: 0.3564\n",
      "Epoch 73/100\n",
      "1000/1000 [==============================] - 0s 51us/step - loss: 0.3578\n",
      "Epoch 74/100\n",
      "1000/1000 [==============================] - 0s 50us/step - loss: 0.3589\n",
      "Epoch 75/100\n",
      "1000/1000 [==============================] - 0s 53us/step - loss: 0.3562\n",
      "Epoch 76/100\n",
      "1000/1000 [==============================] - 0s 44us/step - loss: 0.3583\n",
      "Epoch 77/100\n",
      "1000/1000 [==============================] - 0s 44us/step - loss: 0.3591\n",
      "Epoch 78/100\n",
      "1000/1000 [==============================] - 0s 48us/step - loss: 0.3573\n",
      "Epoch 79/100\n",
      "1000/1000 [==============================] - 0s 41us/step - loss: 0.3572\n",
      "Epoch 80/100\n",
      "1000/1000 [==============================] - 0s 63us/step - loss: 0.3568\n",
      "Epoch 81/100\n",
      "1000/1000 [==============================] - 0s 45us/step - loss: 0.3576\n",
      "Epoch 82/100\n",
      "1000/1000 [==============================] - 0s 43us/step - loss: 0.3573\n",
      "Epoch 83/100\n",
      "1000/1000 [==============================] - 0s 44us/step - loss: 0.3585\n",
      "Epoch 84/100\n",
      "1000/1000 [==============================] - 0s 45us/step - loss: 0.3581\n",
      "Epoch 85/100\n",
      "1000/1000 [==============================] - 0s 47us/step - loss: 0.3575\n",
      "Epoch 86/100\n",
      "1000/1000 [==============================] - 0s 46us/step - loss: 0.3588\n",
      "Epoch 87/100\n",
      "1000/1000 [==============================] - 0s 46us/step - loss: 0.3591\n",
      "Epoch 88/100\n",
      "1000/1000 [==============================] - 0s 48us/step - loss: 0.3591\n",
      "Epoch 89/100\n",
      "1000/1000 [==============================] - 0s 56us/step - loss: 0.3598\n",
      "Epoch 90/100\n",
      "1000/1000 [==============================] - 0s 70us/step - loss: 0.3617\n",
      "Epoch 91/100\n",
      "1000/1000 [==============================] - 0s 68us/step - loss: 0.3580\n",
      "Epoch 92/100\n",
      "1000/1000 [==============================] - 0s 63us/step - loss: 0.3585\n",
      "Epoch 93/100\n",
      "1000/1000 [==============================] - 0s 54us/step - loss: 0.3592\n",
      "Epoch 94/100\n",
      "1000/1000 [==============================] - 0s 50us/step - loss: 0.3601\n",
      "Epoch 95/100\n",
      "1000/1000 [==============================] - 0s 46us/step - loss: 0.3594\n",
      "Epoch 96/100\n",
      "1000/1000 [==============================] - 0s 45us/step - loss: 0.3566\n",
      "Epoch 97/100\n",
      "1000/1000 [==============================] - 0s 49us/step - loss: 0.3580\n",
      "Epoch 98/100\n",
      "1000/1000 [==============================] - 0s 48us/step - loss: 0.3571\n",
      "Epoch 99/100\n",
      "1000/1000 [==============================] - 0s 56us/step - loss: 0.3584\n",
      "Epoch 100/100\n",
      "1000/1000 [==============================] - 0s 46us/step - loss: 0.3588\n"
     ]
    },
    {
     "data": {
      "text/plain": [
       "<keras.callbacks.History at 0x1f417bbecc0>"
      ]
     },
     "execution_count": 4,
     "metadata": {},
     "output_type": "execute_result"
    }
   ],
   "source": [
    "model.compile(loss=\"mse\",optimizer='adam')\n",
    "model.fit(X,Y,epochs=100)"
   ]
  },
  {
   "cell_type": "code",
   "execution_count": 5,
   "metadata": {},
   "outputs": [],
   "source": [
    "Y_=model.predict(X)"
   ]
  },
  {
   "cell_type": "code",
   "execution_count": 6,
   "metadata": {},
   "outputs": [
    {
     "data": {
      "text/plain": [
       "[<matplotlib.lines.Line2D at 0x1f4186cc048>]"
      ]
     },
     "execution_count": 6,
     "metadata": {},
     "output_type": "execute_result"
    }
   ],
   "source": [
    "\n",
    "pp.plot(X,Y_,'ro')"
   ]
  },
  {
   "cell_type": "code",
   "execution_count": null,
   "metadata": {},
   "outputs": [],
   "source": []
  }
 ],
 "metadata": {
  "kernelspec": {
   "display_name": "Python 3",
   "language": "python",
   "name": "python3"
  },
  "language_info": {
   "codemirror_mode": {
    "name": "ipython",
    "version": 3
   },
   "file_extension": ".py",
   "mimetype": "text/x-python",
   "name": "python",
   "nbconvert_exporter": "python",
   "pygments_lexer": "ipython3",
   "version": "3.6.4"
  }
 },
 "nbformat": 4,
 "nbformat_minor": 2
}
