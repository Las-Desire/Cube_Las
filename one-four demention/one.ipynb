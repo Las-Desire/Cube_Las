{
 "cells": [
  {
   "cell_type": "code",
   "execution_count": 1,
   "metadata": {},
   "outputs": [
    {
     "name": "stderr",
     "output_type": "stream",
     "text": [
      "D:\\LLAS\\lib\\site-packages\\h5py\\__init__.py:36: FutureWarning: Conversion of the second argument of issubdtype from `float` to `np.floating` is deprecated. In future, it will be treated as `np.float64 == np.dtype(float).type`.\n",
      "  from ._conv import register_converters as _register_converters\n",
      "Using TensorFlow backend.\n"
     ]
    }
   ],
   "source": [
    "import keras\n",
    "import numpy as np\n",
    "import matplotlib.pyplot as pp"
   ]
  },
  {
   "cell_type": "code",
   "execution_count": 168,
   "metadata": {},
   "outputs": [
    {
     "data": {
      "text/plain": [
       "[<matplotlib.lines.Line2D at 0x2965f2caf98>]"
      ]
     },
     "execution_count": 168,
     "metadata": {},
     "output_type": "execute_result"
    }
   ],
   "source": [
    "x_shape=(500)\n",
    "X=np.random.random(x_shape)\n",
    "#평균\n",
    "mean=np.random.randint(-100,100)\n",
    "#표준정규\n",
    "std=70\n",
    "X=np.random.normal(mean,std,x_shape)\n",
    "X=np.random.random(x_shape)\n",
    "\n",
    "pp.plot(np.arange(0,500,1),X,\"ro\")"
   ]
  },
  {
   "cell_type": "code",
   "execution_count": 169,
   "metadata": {},
   "outputs": [
    {
     "name": "stdout",
     "output_type": "stream",
     "text": [
      "[58.15183889] [-5.29326182]\n"
     ]
    },
    {
     "data": {
      "text/plain": [
       "[<matplotlib.lines.Line2D at 0x2965f3105f8>]"
      ]
     },
     "execution_count": 169,
     "metadata": {},
     "output_type": "execute_result"
    }
   ],
   "source": [
    "def random():\n",
    "    return np.random.randint(-100,100)*np.random.random(1)\n",
    "a=random()\n",
    "b=random()\n",
    "\n",
    "def f(x):\n",
    "    return a*x+b\n",
    "Y=f(X)\n",
    "print(a,b)\n",
    "pp.plot(X,Y,\"ro\")"
   ]
  },
  {
   "cell_type": "code",
   "execution_count": 170,
   "metadata": {},
   "outputs": [],
   "source": [
    "model=keras.models.Sequential()\n",
    "model.add(layer=keras.layers.Dense(100,input_shape=(1,)))\n",
    "model.add(layer=keras.layers.Dense(100,activation='relu'))\n",
    "model.add(layer=keras.layers.Dense(200,activation='relu'))\n",
    "model.add(layer=keras.layers.Dense(1000,activation='relu'))\n",
    "model.add(layer=keras.layers.Dense(1))"
   ]
  },
  {
   "cell_type": "code",
   "execution_count": 171,
   "metadata": {},
   "outputs": [],
   "source": [
    "model.compile(loss=\"mse\",optimizer='adam')"
   ]
  },
  {
   "cell_type": "code",
   "execution_count": 173,
   "metadata": {},
   "outputs": [
    {
     "name": "stdout",
     "output_type": "stream",
     "text": [
      "Epoch 1/100\n",
      "500/500 [==============================] - 0s 198us/step - loss: 3.8224e-05\n",
      "Epoch 2/100\n",
      "500/500 [==============================] - 0s 189us/step - loss: 5.8111e-05\n",
      "Epoch 3/100\n",
      "500/500 [==============================] - 0s 187us/step - loss: 1.9126e-04\n",
      "Epoch 4/100\n",
      "500/500 [==============================] - 0s 183us/step - loss: 1.3525e-04\n",
      "Epoch 5/100\n",
      "500/500 [==============================] - 0s 184us/step - loss: 4.1037e-04\n",
      "Epoch 6/100\n",
      "500/500 [==============================] - 0s 210us/step - loss: 9.4673e-04\n",
      "Epoch 7/100\n",
      "500/500 [==============================] - 0s 174us/step - loss: 0.0013\n",
      "Epoch 8/100\n",
      "500/500 [==============================] - 0s 186us/step - loss: 0.0041\n",
      "Epoch 9/100\n",
      "500/500 [==============================] - 0s 184us/step - loss: 0.1424\n",
      "Epoch 10/100\n",
      "500/500 [==============================] - 0s 176us/step - loss: 0.0473\n",
      "Epoch 11/100\n",
      "500/500 [==============================] - 0s 189us/step - loss: 0.0563\n",
      "Epoch 12/100\n",
      "500/500 [==============================] - 0s 175us/step - loss: 0.0153\n",
      "Epoch 13/100\n",
      "500/500 [==============================] - 0s 176us/step - loss: 0.0041\n",
      "Epoch 14/100\n",
      "500/500 [==============================] - 0s 188us/step - loss: 0.0037\n",
      "Epoch 15/100\n",
      "500/500 [==============================] - 0s 179us/step - loss: 0.0027\n",
      "Epoch 16/100\n",
      "500/500 [==============================] - 0s 180us/step - loss: 0.0015\n",
      "Epoch 17/100\n",
      "500/500 [==============================] - 0s 168us/step - loss: 8.4500e-04\n",
      "Epoch 18/100\n",
      "500/500 [==============================] - 0s 189us/step - loss: 0.0011\n",
      "Epoch 19/100\n",
      "500/500 [==============================] - 0s 178us/step - loss: 3.8987e-04\n",
      "Epoch 20/100\n",
      "500/500 [==============================] - 0s 179us/step - loss: 2.3254e-04\n",
      "Epoch 21/100\n",
      "500/500 [==============================] - 0s 164us/step - loss: 2.9605e-04\n",
      "Epoch 22/100\n",
      "500/500 [==============================] - 0s 180us/step - loss: 2.1205e-04\n",
      "Epoch 23/100\n",
      "500/500 [==============================] - 0s 173us/step - loss: 1.5421e-04\n",
      "Epoch 24/100\n",
      "500/500 [==============================] - 0s 161us/step - loss: 5.7464e-05\n",
      "Epoch 25/100\n",
      "500/500 [==============================] - 0s 174us/step - loss: 3.7134e-05\n",
      "Epoch 26/100\n",
      "500/500 [==============================] - 0s 174us/step - loss: 2.4471e-05\n",
      "Epoch 27/100\n",
      "500/500 [==============================] - 0s 171us/step - loss: 4.5373e-05\n",
      "Epoch 28/100\n",
      "500/500 [==============================] - 0s 184us/step - loss: 2.6965e-05\n",
      "Epoch 29/100\n",
      "500/500 [==============================] - 0s 168us/step - loss: 3.8147e-05\n",
      "Epoch 30/100\n",
      "500/500 [==============================] - 0s 175us/step - loss: 7.8713e-05\n",
      "Epoch 31/100\n",
      "500/500 [==============================] - 0s 182us/step - loss: 5.8084e-05\n",
      "Epoch 32/100\n",
      "500/500 [==============================] - 0s 172us/step - loss: 5.9427e-05\n",
      "Epoch 33/100\n",
      "500/500 [==============================] - 0s 174us/step - loss: 1.2439e-04\n",
      "Epoch 34/100\n",
      "500/500 [==============================] - 0s 178us/step - loss: 0.0231\n",
      "Epoch 35/100\n",
      "500/500 [==============================] - 0s 182us/step - loss: 0.0429\n",
      "Epoch 36/100\n",
      "500/500 [==============================] - 0s 170us/step - loss: 0.0290\n",
      "Epoch 37/100\n",
      "500/500 [==============================] - 0s 182us/step - loss: 0.0171\n",
      "Epoch 38/100\n",
      "500/500 [==============================] - 0s 176us/step - loss: 0.0019\n",
      "Epoch 39/100\n",
      "500/500 [==============================] - 0s 176us/step - loss: 0.0019\n",
      "Epoch 40/100\n",
      "500/500 [==============================] - 0s 175us/step - loss: 0.0038\n",
      "Epoch 41/100\n",
      "500/500 [==============================] - 0s 179us/step - loss: 0.0141\n",
      "Epoch 42/100\n",
      "500/500 [==============================] - 0s 171us/step - loss: 0.0169\n",
      "Epoch 43/100\n",
      "500/500 [==============================] - 0s 165us/step - loss: 0.0033\n",
      "Epoch 44/100\n",
      "500/500 [==============================] - 0s 174us/step - loss: 8.1746e-04\n",
      "Epoch 45/100\n",
      "500/500 [==============================] - 0s 174us/step - loss: 2.4058e-04\n",
      "Epoch 46/100\n",
      "500/500 [==============================] - 0s 167us/step - loss: 6.0933e-05\n",
      "Epoch 47/100\n",
      "500/500 [==============================] - 0s 165us/step - loss: 4.8699e-05\n",
      "Epoch 48/100\n",
      "500/500 [==============================] - 0s 174us/step - loss: 4.0550e-05\n",
      "Epoch 49/100\n",
      "500/500 [==============================] - 0s 177us/step - loss: 2.8702e-05\n",
      "Epoch 50/100\n",
      "500/500 [==============================] - 0s 166us/step - loss: 6.7165e-05\n",
      "Epoch 51/100\n",
      "500/500 [==============================] - 0s 181us/step - loss: 3.3701e-04\n",
      "Epoch 52/100\n",
      "500/500 [==============================] - 0s 174us/step - loss: 1.8601e-04\n",
      "Epoch 53/100\n",
      "500/500 [==============================] - 0s 158us/step - loss: 9.1711e-05\n",
      "Epoch 54/100\n",
      "500/500 [==============================] - 0s 178us/step - loss: 2.7791e-04\n",
      "Epoch 55/100\n",
      "500/500 [==============================] - 0s 180us/step - loss: 4.7256e-04\n",
      "Epoch 56/100\n",
      "500/500 [==============================] - 0s 169us/step - loss: 4.2840e-04\n",
      "Epoch 57/100\n",
      "500/500 [==============================] - 0s 169us/step - loss: 5.1316e-04\n",
      "Epoch 58/100\n",
      "500/500 [==============================] - 0s 175us/step - loss: 0.0111\n",
      "Epoch 59/100\n",
      "500/500 [==============================] - 0s 171us/step - loss: 0.0014\n",
      "Epoch 60/100\n",
      "500/500 [==============================] - 0s 160us/step - loss: 3.0551e-04\n",
      "Epoch 61/100\n",
      "500/500 [==============================] - 0s 166us/step - loss: 2.2227e-04\n",
      "Epoch 62/100\n",
      "500/500 [==============================] - 0s 170us/step - loss: 0.0014\n",
      "Epoch 63/100\n",
      "500/500 [==============================] - 0s 173us/step - loss: 0.0040\n",
      "Epoch 64/100\n",
      "500/500 [==============================] - 0s 173us/step - loss: 0.0033\n",
      "Epoch 65/100\n",
      "500/500 [==============================] - 0s 166us/step - loss: 0.0034\n",
      "Epoch 66/100\n",
      "500/500 [==============================] - 0s 169us/step - loss: 0.0027\n",
      "Epoch 67/100\n",
      "500/500 [==============================] - 0s 176us/step - loss: 0.0737\n",
      "Epoch 68/100\n",
      "500/500 [==============================] - 0s 168us/step - loss: 0.5778\n",
      "Epoch 69/100\n",
      "500/500 [==============================] - 0s 163us/step - loss: 0.1993\n",
      "Epoch 70/100\n",
      "500/500 [==============================] - 0s 175us/step - loss: 0.0390\n",
      "Epoch 71/100\n",
      "500/500 [==============================] - 0s 167us/step - loss: 0.0199\n",
      "Epoch 72/100\n",
      "500/500 [==============================] - 0s 170us/step - loss: 0.0033\n",
      "Epoch 73/100\n",
      "500/500 [==============================] - 0s 168us/step - loss: 0.0021\n",
      "Epoch 74/100\n",
      "500/500 [==============================] - 0s 164us/step - loss: 9.9315e-04\n",
      "Epoch 75/100\n",
      "500/500 [==============================] - 0s 170us/step - loss: 0.0012\n",
      "Epoch 76/100\n",
      "500/500 [==============================] - 0s 159us/step - loss: 0.0023\n",
      "Epoch 77/100\n",
      "500/500 [==============================] - 0s 174us/step - loss: 0.0013\n",
      "Epoch 78/100\n",
      "500/500 [==============================] - 0s 166us/step - loss: 9.6944e-04\n",
      "Epoch 79/100\n",
      "500/500 [==============================] - 0s 166us/step - loss: 5.7269e-04\n",
      "Epoch 80/100\n",
      "500/500 [==============================] - 0s 169us/step - loss: 3.5445e-04\n",
      "Epoch 81/100\n",
      "500/500 [==============================] - 0s 175us/step - loss: 1.2383e-04\n",
      "Epoch 82/100\n",
      "500/500 [==============================] - 0s 178us/step - loss: 1.3483e-04\n",
      "Epoch 83/100\n",
      "500/500 [==============================] - 0s 182us/step - loss: 1.4466e-04\n",
      "Epoch 84/100\n",
      "500/500 [==============================] - 0s 192us/step - loss: 1.3732e-04\n",
      "Epoch 85/100\n",
      "500/500 [==============================] - 0s 184us/step - loss: 2.3360e-04\n",
      "Epoch 86/100\n",
      "500/500 [==============================] - 0s 169us/step - loss: 1.4763e-04\n",
      "Epoch 87/100\n",
      "500/500 [==============================] - 0s 186us/step - loss: 1.1005e-04\n",
      "Epoch 88/100\n",
      "500/500 [==============================] - 0s 185us/step - loss: 1.2274e-04\n",
      "Epoch 89/100\n",
      "500/500 [==============================] - 0s 169us/step - loss: 1.9528e-04\n",
      "Epoch 90/100\n",
      "500/500 [==============================] - 0s 177us/step - loss: 1.4657e-04\n",
      "Epoch 91/100\n",
      "500/500 [==============================] - 0s 173us/step - loss: 1.4320e-04\n",
      "Epoch 92/100\n",
      "500/500 [==============================] - 0s 168us/step - loss: 8.8745e-05\n",
      "Epoch 93/100\n",
      "500/500 [==============================] - 0s 173us/step - loss: 9.6688e-05\n",
      "Epoch 94/100\n"
     ]
    },
    {
     "name": "stdout",
     "output_type": "stream",
     "text": [
      "500/500 [==============================] - 0s 182us/step - loss: 1.0595e-04\n",
      "Epoch 95/100\n",
      "500/500 [==============================] - 0s 181us/step - loss: 1.0303e-04\n",
      "Epoch 96/100\n",
      "500/500 [==============================] - 0s 151us/step - loss: 1.3459e-04\n",
      "Epoch 97/100\n",
      "500/500 [==============================] - 0s 171us/step - loss: 1.7641e-04\n",
      "Epoch 98/100\n",
      "500/500 [==============================] - 0s 190us/step - loss: 1.4695e-04\n",
      "Epoch 99/100\n",
      "500/500 [==============================] - 0s 175us/step - loss: 2.8720e-04\n",
      "Epoch 100/100\n",
      "500/500 [==============================] - 0s 185us/step - loss: 3.1411e-04\n"
     ]
    },
    {
     "data": {
      "text/plain": [
       "<keras.callbacks.History at 0x29660c9c240>"
      ]
     },
     "execution_count": 173,
     "metadata": {},
     "output_type": "execute_result"
    }
   ],
   "source": [
    "model.fit(X,Y,epochs=100)"
   ]
  },
  {
   "cell_type": "code",
   "execution_count": 174,
   "metadata": {},
   "outputs": [],
   "source": [
    "Y_=model.predict(X)"
   ]
  },
  {
   "cell_type": "code",
   "execution_count": 177,
   "metadata": {},
   "outputs": [
    {
     "name": "stdout",
     "output_type": "stream",
     "text": [
      "Using matplotlib backend: Qt5Agg\n"
     ]
    },
    {
     "data": {
      "text/plain": [
       "[<matplotlib.lines.Line2D at 0x29660ccea58>]"
      ]
     },
     "execution_count": 177,
     "metadata": {},
     "output_type": "execute_result"
    }
   ],
   "source": [
    "%matplotlib\n",
    "pp.plot(X,Y_,\"ro\")"
   ]
  }
 ],
 "metadata": {
  "kernelspec": {
   "display_name": "Python 3",
   "language": "python",
   "name": "python3"
  },
  "language_info": {
   "codemirror_mode": {
    "name": "ipython",
    "version": 3
   },
   "file_extension": ".py",
   "mimetype": "text/x-python",
   "name": "python",
   "nbconvert_exporter": "python",
   "pygments_lexer": "ipython3",
   "version": "3.6.4"
  }
 },
 "nbformat": 4,
 "nbformat_minor": 2
}
