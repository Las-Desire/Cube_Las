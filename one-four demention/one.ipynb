{
 "cells": [
  {
   "cell_type": "code",
   "execution_count": 1,
   "metadata": {},
   "outputs": [
    {
     "name": "stderr",
     "output_type": "stream",
     "text": [
      "D:\\LLAS\\lib\\site-packages\\h5py\\__init__.py:36: FutureWarning: Conversion of the second argument of issubdtype from `float` to `np.floating` is deprecated. In future, it will be treated as `np.float64 == np.dtype(float).type`.\n",
      "  from ._conv import register_converters as _register_converters\n",
      "Using TensorFlow backend.\n"
     ]
    }
   ],
   "source": [
    "import keras\n",
    "import numpy as np\n",
    "import matplotlib.pyplot as pp"
   ]
  },
  {
   "cell_type": "code",
   "execution_count": 189,
   "metadata": {},
   "outputs": [
    {
     "data": {
      "text/plain": [
       "[<matplotlib.lines.Line2D at 0x296628caf60>]"
      ]
     },
     "execution_count": 189,
     "metadata": {},
     "output_type": "execute_result"
    }
   ],
   "source": [
    "x_shape=(500)\n",
    "X=np.random.random(x_shape)\n",
    "#평균\n",
    "mean=np.random.randint(-100,100)\n",
    "#표준정규\n",
    "std=700\n",
    "\n",
    "X=np.random.random(x_shape)\n",
    "X=np.random.normal(mean,std,x_shape)\n",
    "\n",
    "pp.plot(np.arange(0,500,1),X,\"ro\")"
   ]
  },
  {
   "cell_type": "code",
   "execution_count": 190,
   "metadata": {},
   "outputs": [
    {
     "name": "stdout",
     "output_type": "stream",
     "text": [
      "[-2.56565705] [22.13903801]\n"
     ]
    },
    {
     "data": {
      "text/plain": [
       "[<matplotlib.lines.Line2D at 0x2966296f080>]"
      ]
     },
     "execution_count": 190,
     "metadata": {},
     "output_type": "execute_result"
    }
   ],
   "source": [
    "def random():\n",
    "    return np.random.randint(-100,100)*np.random.random(1)\n",
    "a=random()\n",
    "b=random()\n",
    "\n",
    "def f(x):\n",
    "    return a*x+b\n",
    "Y=f(X)\n",
    "print(a,b)\n",
    "pp.plot(X,Y,\"ro\")"
   ]
  },
  {
   "cell_type": "code",
   "execution_count": 181,
   "metadata": {},
   "outputs": [],
   "source": [
    "model=keras.models.Sequential()\n",
    "model.add(layer=keras.layers.Dense(100,input_shape=(1,)))\n",
    "model.add(layer=keras.layers.Dense(100,activation='relu'))\n",
    "model.add(layer=keras.layers.Dense(200,activation='relu'))\n",
    "model.add(layer=keras.layers.Dense(1000,activation='relu'))\n",
    "model.add(layer=keras.layers.Dense(1))"
   ]
  },
  {
   "cell_type": "code",
   "execution_count": 182,
   "metadata": {},
   "outputs": [],
   "source": [
    "model.compile(loss=\"mse\",optimizer='adam')"
   ]
  },
  {
   "cell_type": "code",
   "execution_count": 183,
   "metadata": {},
   "outputs": [
    {
     "name": "stdout",
     "output_type": "stream",
     "text": [
      "Epoch 1/100\n",
      "500/500 [==============================] - 1s 2ms/step - loss: 865582.8540\n",
      "Epoch 2/100\n",
      "500/500 [==============================] - 0s 54us/step - loss: 840918.7645\n",
      "Epoch 3/100\n",
      "500/500 [==============================] - 0s 61us/step - loss: 815912.3530\n",
      "Epoch 4/100\n",
      "500/500 [==============================] - 0s 60us/step - loss: 785297.9200\n",
      "Epoch 5/100\n",
      "500/500 [==============================] - 0s 54us/step - loss: 744934.6097\n",
      "Epoch 6/100\n",
      "500/500 [==============================] - 0s 58us/step - loss: 692466.9398\n",
      "Epoch 7/100\n",
      "500/500 [==============================] - 0s 53us/step - loss: 630382.9980\n",
      "Epoch 8/100\n",
      "500/500 [==============================] - 0s 64us/step - loss: 549207.7262\n",
      "Epoch 9/100\n",
      "500/500 [==============================] - 0s 55us/step - loss: 453430.8035\n",
      "Epoch 10/100\n",
      "500/500 [==============================] - 0s 59us/step - loss: 341535.3375\n",
      "Epoch 11/100\n",
      "500/500 [==============================] - 0s 58us/step - loss: 224399.0963\n",
      "Epoch 12/100\n",
      "500/500 [==============================] - 0s 57us/step - loss: 120398.2171\n",
      "Epoch 13/100\n",
      "500/500 [==============================] - 0s 59us/step - loss: 48268.9354\n",
      "Epoch 14/100\n",
      "500/500 [==============================] - 0s 59us/step - loss: 12500.4249\n",
      "Epoch 15/100\n",
      "500/500 [==============================] - 0s 60us/step - loss: 2017.0470\n",
      "Epoch 16/100\n",
      "500/500 [==============================] - 0s 56us/step - loss: 488.2178\n",
      "Epoch 17/100\n",
      "500/500 [==============================] - 0s 51us/step - loss: 358.8087\n",
      "Epoch 18/100\n",
      "500/500 [==============================] - 0s 55us/step - loss: 321.4911\n",
      "Epoch 19/100\n",
      "500/500 [==============================] - 0s 70us/step - loss: 310.7244\n",
      "Epoch 20/100\n",
      "500/500 [==============================] - 0s 69us/step - loss: 307.4185\n",
      "Epoch 21/100\n",
      "500/500 [==============================] - 0s 62us/step - loss: 305.1924\n",
      "Epoch 22/100\n",
      "500/500 [==============================] - 0s 82us/step - loss: 304.0201\n",
      "Epoch 23/100\n",
      "500/500 [==============================] - 0s 73us/step - loss: 301.3873\n",
      "Epoch 24/100\n",
      "500/500 [==============================] - 0s 53us/step - loss: 298.2809\n",
      "Epoch 25/100\n",
      "500/500 [==============================] - 0s 64us/step - loss: 295.6910\n",
      "Epoch 26/100\n",
      "500/500 [==============================] - 0s 64us/step - loss: 293.3420\n",
      "Epoch 27/100\n",
      "500/500 [==============================] - 0s 60us/step - loss: 291.6221\n",
      "Epoch 28/100\n",
      "500/500 [==============================] - 0s 68us/step - loss: 290.0300\n",
      "Epoch 29/100\n",
      "500/500 [==============================] - 0s 78us/step - loss: 289.1752\n",
      "Epoch 30/100\n",
      "500/500 [==============================] - 0s 78us/step - loss: 285.9003\n",
      "Epoch 31/100\n",
      "500/500 [==============================] - 0s 79us/step - loss: 283.9020\n",
      "Epoch 32/100\n",
      "500/500 [==============================] - 0s 76us/step - loss: 281.6100\n",
      "Epoch 33/100\n",
      "500/500 [==============================] - 0s 75us/step - loss: 279.4465\n",
      "Epoch 34/100\n",
      "500/500 [==============================] - 0s 69us/step - loss: 279.3707\n",
      "Epoch 35/100\n",
      "500/500 [==============================] - 0s 68us/step - loss: 277.6118\n",
      "Epoch 36/100\n",
      "500/500 [==============================] - 0s 58us/step - loss: 272.3125\n",
      "Epoch 37/100\n",
      "500/500 [==============================] - 0s 66us/step - loss: 271.9855\n",
      "Epoch 38/100\n",
      "500/500 [==============================] - 0s 64us/step - loss: 270.8089\n",
      "Epoch 39/100\n",
      "500/500 [==============================] - 0s 63us/step - loss: 265.8427\n",
      "Epoch 40/100\n",
      "500/500 [==============================] - 0s 57us/step - loss: 264.5075\n",
      "Epoch 41/100\n",
      "500/500 [==============================] - 0s 60us/step - loss: 262.6185\n",
      "Epoch 42/100\n",
      "500/500 [==============================] - 0s 58us/step - loss: 259.6567\n",
      "Epoch 43/100\n",
      "500/500 [==============================] - 0s 66us/step - loss: 257.7045\n",
      "Epoch 44/100\n",
      "500/500 [==============================] - 0s 61us/step - loss: 255.8200\n",
      "Epoch 45/100\n",
      "500/500 [==============================] - 0s 60us/step - loss: 253.4046\n",
      "Epoch 46/100\n",
      "500/500 [==============================] - 0s 61us/step - loss: 252.4856\n",
      "Epoch 47/100\n",
      "500/500 [==============================] - 0s 64us/step - loss: 247.9628\n",
      "Epoch 48/100\n",
      "500/500 [==============================] - 0s 63us/step - loss: 246.6763\n",
      "Epoch 49/100\n",
      "500/500 [==============================] - 0s 55us/step - loss: 244.6526\n",
      "Epoch 50/100\n",
      "500/500 [==============================] - 0s 64us/step - loss: 240.9681\n",
      "Epoch 51/100\n",
      "500/500 [==============================] - 0s 60us/step - loss: 238.2071\n",
      "Epoch 52/100\n",
      "500/500 [==============================] - 0s 60us/step - loss: 235.3082\n",
      "Epoch 53/100\n",
      "500/500 [==============================] - 0s 61us/step - loss: 233.4110\n",
      "Epoch 54/100\n",
      "500/500 [==============================] - 0s 60us/step - loss: 232.7466\n",
      "Epoch 55/100\n",
      "500/500 [==============================] - 0s 69us/step - loss: 229.5061\n",
      "Epoch 56/100\n",
      "500/500 [==============================] - 0s 67us/step - loss: 226.2712\n",
      "Epoch 57/100\n",
      "500/500 [==============================] - 0s 66us/step - loss: 224.7501\n",
      "Epoch 58/100\n",
      "500/500 [==============================] - 0s 63us/step - loss: 221.6810\n",
      "Epoch 59/100\n",
      "500/500 [==============================] - 0s 63us/step - loss: 219.4207\n",
      "Epoch 60/100\n",
      "500/500 [==============================] - 0s 66us/step - loss: 217.1147\n",
      "Epoch 61/100\n",
      "500/500 [==============================] - 0s 69us/step - loss: 214.4753\n",
      "Epoch 62/100\n",
      "500/500 [==============================] - 0s 67us/step - loss: 212.7178\n",
      "Epoch 63/100\n",
      "500/500 [==============================] - 0s 62us/step - loss: 209.8972\n",
      "Epoch 64/100\n",
      "500/500 [==============================] - 0s 69us/step - loss: 208.1225\n",
      "Epoch 65/100\n",
      "500/500 [==============================] - 0s 72us/step - loss: 205.3923\n",
      "Epoch 66/100\n",
      "500/500 [==============================] - 0s 61us/step - loss: 202.5016\n",
      "Epoch 67/100\n",
      "500/500 [==============================] - 0s 55us/step - loss: 201.4612\n",
      "Epoch 68/100\n",
      "500/500 [==============================] - 0s 60us/step - loss: 198.9862\n",
      "Epoch 69/100\n",
      "500/500 [==============================] - 0s 48us/step - loss: 195.9908\n",
      "Epoch 70/100\n",
      "500/500 [==============================] - 0s 52us/step - loss: 193.3170\n",
      "Epoch 71/100\n",
      "500/500 [==============================] - 0s 59us/step - loss: 191.2417\n",
      "Epoch 72/100\n",
      "500/500 [==============================] - 0s 55us/step - loss: 189.0919\n",
      "Epoch 73/100\n",
      "500/500 [==============================] - 0s 53us/step - loss: 186.3503\n",
      "Epoch 74/100\n",
      "500/500 [==============================] - 0s 55us/step - loss: 185.2256\n",
      "Epoch 75/100\n",
      "500/500 [==============================] - 0s 58us/step - loss: 182.2372\n",
      "Epoch 76/100\n",
      "500/500 [==============================] - 0s 51us/step - loss: 180.0430\n",
      "Epoch 77/100\n",
      "500/500 [==============================] - 0s 52us/step - loss: 177.4797\n",
      "Epoch 78/100\n",
      "500/500 [==============================] - 0s 56us/step - loss: 176.3310\n",
      "Epoch 79/100\n",
      "500/500 [==============================] - 0s 52us/step - loss: 172.5668\n",
      "Epoch 80/100\n",
      "500/500 [==============================] - 0s 61us/step - loss: 170.5024\n",
      "Epoch 81/100\n",
      "500/500 [==============================] - 0s 57us/step - loss: 169.1329\n",
      "Epoch 82/100\n",
      "500/500 [==============================] - 0s 59us/step - loss: 169.2645\n",
      "Epoch 83/100\n",
      "500/500 [==============================] - 0s 48us/step - loss: 166.1272\n",
      "Epoch 84/100\n",
      "500/500 [==============================] - 0s 62us/step - loss: 161.7763\n",
      "Epoch 85/100\n",
      "500/500 [==============================] - 0s 56us/step - loss: 160.3919\n",
      "Epoch 86/100\n",
      "500/500 [==============================] - 0s 54us/step - loss: 157.9556\n",
      "Epoch 87/100\n",
      "500/500 [==============================] - 0s 57us/step - loss: 154.8012\n",
      "Epoch 88/100\n",
      "500/500 [==============================] - 0s 50us/step - loss: 152.4187\n",
      "Epoch 89/100\n",
      "500/500 [==============================] - 0s 58us/step - loss: 151.3110\n",
      "Epoch 90/100\n",
      "500/500 [==============================] - 0s 56us/step - loss: 149.4052\n",
      "Epoch 91/100\n",
      "500/500 [==============================] - 0s 59us/step - loss: 146.2337\n",
      "Epoch 92/100\n",
      "500/500 [==============================] - 0s 59us/step - loss: 144.0842\n",
      "Epoch 93/100\n",
      "500/500 [==============================] - 0s 51us/step - loss: 142.2356\n",
      "Epoch 94/100\n",
      "500/500 [==============================] - 0s 59us/step - loss: 140.6876\n",
      "Epoch 95/100\n"
     ]
    },
    {
     "name": "stdout",
     "output_type": "stream",
     "text": [
      "500/500 [==============================] - 0s 53us/step - loss: 138.2831\n",
      "Epoch 96/100\n",
      "500/500 [==============================] - 0s 58us/step - loss: 136.3671\n",
      "Epoch 97/100\n",
      "500/500 [==============================] - 0s 60us/step - loss: 134.1516\n",
      "Epoch 98/100\n",
      "500/500 [==============================] - 0s 57us/step - loss: 132.8808\n",
      "Epoch 99/100\n",
      "500/500 [==============================] - 0s 60us/step - loss: 130.2375\n",
      "Epoch 100/100\n",
      "500/500 [==============================] - 0s 56us/step - loss: 127.6984\n"
     ]
    },
    {
     "data": {
      "text/plain": [
       "<keras.callbacks.History at 0x29660bf2b00>"
      ]
     },
     "execution_count": 183,
     "metadata": {},
     "output_type": "execute_result"
    }
   ],
   "source": [
    "model.fit(X,Y,epochs=100)"
   ]
  },
  {
   "cell_type": "code",
   "execution_count": 184,
   "metadata": {},
   "outputs": [],
   "source": [
    "Y_=model.predict(X)"
   ]
  },
  {
   "cell_type": "code",
   "execution_count": 185,
   "metadata": {},
   "outputs": [
    {
     "name": "stdout",
     "output_type": "stream",
     "text": [
      "Using matplotlib backend: Qt5Agg\n"
     ]
    },
    {
     "data": {
      "text/plain": [
       "[<matplotlib.lines.Line2D at 0x29662b14ba8>]"
      ]
     },
     "execution_count": 185,
     "metadata": {},
     "output_type": "execute_result"
    }
   ],
   "source": [
    "%matplotlib\n",
    "pp.plot(X,Y_,\"ro\")"
   ]
  },
  {
   "cell_type": "code",
   "execution_count": null,
   "metadata": {},
   "outputs": [],
   "source": []
  }
 ],
 "metadata": {
  "kernelspec": {
   "display_name": "Python 3",
   "language": "python",
   "name": "python3"
  },
  "language_info": {
   "codemirror_mode": {
    "name": "ipython",
    "version": 3
   },
   "file_extension": ".py",
   "mimetype": "text/x-python",
   "name": "python",
   "nbconvert_exporter": "python",
   "pygments_lexer": "ipython3",
   "version": "3.6.4"
  }
 },
 "nbformat": 4,
 "nbformat_minor": 2
}
