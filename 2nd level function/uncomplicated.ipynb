{
 "cells": [
  {
   "cell_type": "code",
   "execution_count": 2,
   "metadata": {},
   "outputs": [
    {
     "name": "stderr",
     "output_type": "stream",
     "text": [
      "D:\\LLAS\\lib\\site-packages\\h5py\\__init__.py:36: FutureWarning: Conversion of the second argument of issubdtype from `float` to `np.floating` is deprecated. In future, it will be treated as `np.float64 == np.dtype(float).type`.\n",
      "  from ._conv import register_converters as _register_converters\n",
      "Using TensorFlow backend.\n"
     ]
    }
   ],
   "source": [
    "import keras\n",
    "import numpy as np\n",
    "import matplotlib.pyplot as pp"
   ]
  },
  {
   "cell_type": "code",
   "execution_count": 3,
   "metadata": {},
   "outputs": [
    {
     "data": {
      "text/plain": [
       "[<matplotlib.lines.Line2D at 0x204840b23c8>]"
      ]
     },
     "execution_count": 3,
     "metadata": {},
     "output_type": "execute_result"
    },
    {
     "data": {
      "image/png": "[encoded data removed]",
      "text/plain": [
       "<matplotlib.figure.Figure at 0x20482059b38>"
      ]
     },
     "metadata": {},
     "output_type": "display_data"
    }
   ],
   "source": [
    "x_shape=(500)\n",
    "X=np.random.random(x_shape)\n",
    "#평균\n",
    "mean=np.random.randint(-100,100)\n",
    "#표준정규\n",
    "std=700\n",
    "\n",
    "X=np.random.random(x_shape)\n",
    "X=np.random.normal(mean,std,x_shape)\n",
    "X=np.arange(-100,100,0.2)\n",
    "pp.plot(X,X,\"ro\")"
   ]
  },
  {
   "cell_type": "code",
   "execution_count": 4,
   "metadata": {},
   "outputs": [
    {
     "name": "stdout",
     "output_type": "stream",
     "text": [
      "[11.08552964] [50.89117086]\n"
     ]
    },
    {
     "data": {
      "text/plain": [
       "[<matplotlib.lines.Line2D at 0x20485134b38>]"
      ]
     },
     "execution_count": 4,
     "metadata": {},
     "output_type": "execute_result"
    },
    {
     "data": {
      "image/png": "[encoded data removed]",
      "text/plain": [
       "<matplotlib.figure.Figure at 0x20482057e10>"
      ]
     },
     "metadata": {},
     "output_type": "display_data"
    }
   ],
   "source": [
    "def random():\n",
    "    return np.random.randint(-100,100)*np.random.random(1)\n",
    "a=random()\n",
    "b=random()\n",
    "Y=[]\n",
    "for i in X:\n",
    "    if(i>0):\n",
    "        Y.append(i+200)\n",
    "    else:\n",
    "        Y.append(-6*i-150)\n",
    "print(a,b)\n",
    "pp.plot(X,Y,\"ro\")"
   ]
  },
  {
   "cell_type": "code",
   "execution_count": 10,
   "metadata": {
    "scrolled": true
   },
   "outputs": [],
   "source": [
    "model=keras.models.Sequential()\n",
    "model.add(layer=keras.layers.Dense(10,input_shape=(1,)))\n",
    "model.add(layer=keras.layers.Dense(100,activation='relu'))\n",
    "model.add(layer=keras.layers.Dense(200,activation='relu'))\n",
    "#model.add(layer=keras.layers.Dropout(0.5))\n",
    "model.add(layer=keras.layers.Dense(1))\n",
    "model.compile(loss=keras.losses.mse,optimizer='adam')"
   ]
  },
  {
   "cell_type": "code",
   "execution_count": 11,
   "metadata": {},
   "outputs": [],
   "source": [
    "def active(x):\n",
    "    if(x[0]<1):\n",
    "        return x\n"
   ]
  },
  {
   "cell_type": "code",
   "execution_count": 12,
   "metadata": {
    "scrolled": true
   },
   "outputs": [
    {
     "name": "stdout",
     "output_type": "stream",
     "text": [
      "Epoch 1/5000\n",
      "1000/1000 [==============================] - 1s 636us/step - loss: 37091.6160\n",
      "Epoch 2/5000\n",
      "1000/1000 [==============================] - 0s 56us/step - loss: 8837.5386\n",
      "Epoch 3/5000\n",
      "1000/1000 [==============================] - 0s 59us/step - loss: 7782.0226\n",
      "Epoch 4/5000\n",
      "1000/1000 [==============================] - 0s 59us/step - loss: 7677.6415\n",
      "Epoch 5/5000\n",
      "1000/1000 [==============================] - 0s 59us/step - loss: 7624.7832\n",
      "Epoch 6/5000\n",
      "1000/1000 [==============================] - 0s 57us/step - loss: 7563.8161\n",
      "Epoch 7/5000\n",
      "1000/1000 [==============================] - 0s 60us/step - loss: 7520.2850\n",
      "Epoch 8/5000\n",
      "1000/1000 [==============================] - 0s 57us/step - loss: 7484.6708\n",
      "Epoch 9/5000\n",
      "1000/1000 [==============================] - 0s 54us/step - loss: 7440.5680\n",
      "Epoch 10/5000\n",
      "1000/1000 [==============================] - 0s 57us/step - loss: 7320.9404\n",
      "Epoch 11/5000\n",
      "1000/1000 [==============================] - 0s 49us/step - loss: 7291.9892\n",
      "Epoch 12/5000\n",
      "1000/1000 [==============================] - 0s 60us/step - loss: 7264.6703\n",
      "Epoch 13/5000\n",
      "1000/1000 [==============================] - 0s 58us/step - loss: 7164.9611\n",
      "Epoch 14/5000\n",
      "1000/1000 [==============================] - 0s 52us/step - loss: 7034.4925\n",
      "Epoch 15/5000\n",
      "1000/1000 [==============================] - 0s 59us/step - loss: 6910.8584\n",
      "Epoch 16/5000\n",
      "1000/1000 [==============================] - 0s 57us/step - loss: 6793.4534\n",
      "Epoch 17/5000\n",
      "1000/1000 [==============================] - 0s 54us/step - loss: 6589.9142\n",
      "Epoch 18/5000\n",
      "1000/1000 [==============================] - 0s 56us/step - loss: 6496.5796\n",
      "Epoch 19/5000\n",
      "1000/1000 [==============================] - 0s 57us/step - loss: 6082.8130\n",
      "Epoch 20/5000\n",
      "1000/1000 [==============================] - 0s 50us/step - loss: 5658.6047\n",
      "Epoch 21/5000\n",
      "1000/1000 [==============================] - 0s 62us/step - loss: 5157.5813\n",
      "Epoch 22/5000\n",
      "1000/1000 [==============================] - 0s 56us/step - loss: 4615.2509\n",
      "Epoch 23/5000\n",
      "1000/1000 [==============================] - 0s 57us/step - loss: 3907.5374\n",
      "Epoch 24/5000\n",
      "1000/1000 [==============================] - 0s 58us/step - loss: 3231.3443\n",
      "Epoch 25/5000\n",
      "1000/1000 [==============================] - 0s 55us/step - loss: 2634.4227\n",
      "Epoch 26/5000\n",
      "1000/1000 [==============================] - 0s 58us/step - loss: 2121.0828\n",
      "Epoch 27/5000\n",
      "1000/1000 [==============================] - 0s 58us/step - loss: 1678.7404\n",
      "Epoch 28/5000\n",
      "1000/1000 [==============================] - 0s 59us/step - loss: 1339.5540\n",
      "Epoch 29/5000\n",
      "1000/1000 [==============================] - 0s 54us/step - loss: 1030.6144\n",
      "Epoch 30/5000\n",
      "1000/1000 [==============================] - 0s 57us/step - loss: 815.8154\n",
      "Epoch 31/5000\n",
      "1000/1000 [==============================] - 0s 56us/step - loss: 679.4939\n",
      "Epoch 32/5000\n",
      "1000/1000 [==============================] - 0s 59us/step - loss: 595.3257\n",
      "Epoch 33/5000\n",
      "1000/1000 [==============================] - 0s 57us/step - loss: 532.0067\n",
      "Epoch 34/5000\n",
      "1000/1000 [==============================] - 0s 53us/step - loss: 478.2506\n",
      "Epoch 35/5000\n",
      "1000/1000 [==============================] - 0s 49us/step - loss: 442.6221\n",
      "Epoch 36/5000\n",
      "1000/1000 [==============================] - 0s 63us/step - loss: 406.1121\n",
      "Epoch 37/5000\n",
      "1000/1000 [==============================] - 0s 57us/step - loss: 374.6518\n",
      "Epoch 38/5000\n",
      "1000/1000 [==============================] - 0s 58us/step - loss: 351.7878\n",
      "Epoch 39/5000\n",
      "1000/1000 [==============================] - 0s 60us/step - loss: 332.1534\n",
      "Epoch 40/5000\n",
      "1000/1000 [==============================] - 0s 57us/step - loss: 312.7929\n",
      "Epoch 41/5000\n",
      "1000/1000 [==============================] - 0s 61us/step - loss: 297.6036\n",
      "Epoch 42/5000\n",
      "1000/1000 [==============================] - 0s 56us/step - loss: 283.2199\n",
      "Epoch 43/5000\n",
      "1000/1000 [==============================] - 0s 61us/step - loss: 268.7297\n",
      "Epoch 44/5000\n",
      "1000/1000 [==============================] - 0s 56us/step - loss: 256.9745\n",
      "Epoch 45/5000\n",
      "1000/1000 [==============================] - 0s 58us/step - loss: 246.8095\n",
      "Epoch 46/5000\n",
      "1000/1000 [==============================] - 0s 55us/step - loss: 237.8047\n",
      "Epoch 47/5000\n",
      "1000/1000 [==============================] - 0s 54us/step - loss: 231.0016\n",
      "Epoch 48/5000\n",
      "1000/1000 [==============================] - 0s 54us/step - loss: 219.1392\n",
      "Epoch 49/5000\n",
      "1000/1000 [==============================] - 0s 55us/step - loss: 213.1715\n",
      "Epoch 50/5000\n",
      "1000/1000 [==============================] - 0s 55us/step - loss: 206.5927\n",
      "Epoch 51/5000\n",
      "1000/1000 [==============================] - 0s 58us/step - loss: 201.5077\n",
      "Epoch 52/5000\n",
      "1000/1000 [==============================] - 0s 55us/step - loss: 198.1729\n",
      "Epoch 53/5000\n",
      "1000/1000 [==============================] - 0s 56us/step - loss: 191.2870\n",
      "Epoch 54/5000\n",
      "1000/1000 [==============================] - 0s 54us/step - loss: 188.4927\n",
      "Epoch 55/5000\n",
      "1000/1000 [==============================] - 0s 51us/step - loss: 180.4161\n",
      "Epoch 56/5000\n",
      "1000/1000 [==============================] - 0s 57us/step - loss: 177.8340\n",
      "Epoch 57/5000\n",
      "1000/1000 [==============================] - 0s 52us/step - loss: 173.5695\n",
      "Epoch 58/5000\n",
      "1000/1000 [==============================] - 0s 56us/step - loss: 168.0626\n",
      "Epoch 59/5000\n",
      "1000/1000 [==============================] - 0s 47us/step - loss: 168.0726\n",
      "Epoch 60/5000\n",
      "1000/1000 [==============================] - 0s 59us/step - loss: 167.3965\n",
      "Epoch 61/5000\n",
      "1000/1000 [==============================] - 0s 51us/step - loss: 174.1759\n",
      "Epoch 62/5000\n",
      "1000/1000 [==============================] - 0s 54us/step - loss: 176.1119\n",
      "Epoch 63/5000\n",
      "1000/1000 [==============================] - 0s 49us/step - loss: 165.2445\n",
      "Epoch 64/5000\n",
      "1000/1000 [==============================] - 0s 57us/step - loss: 151.7464\n",
      "Epoch 65/5000\n",
      "1000/1000 [==============================] - 0s 47us/step - loss: 151.2589\n",
      "Epoch 66/5000\n",
      "1000/1000 [==============================] - 0s 52us/step - loss: 143.4625\n",
      "Epoch 67/5000\n",
      "1000/1000 [==============================] - 0s 50us/step - loss: 140.9359\n",
      "Epoch 68/5000\n",
      "1000/1000 [==============================] - 0s 53us/step - loss: 138.5773\n",
      "Epoch 69/5000\n",
      "1000/1000 [==============================] - 0s 48us/step - loss: 137.2697\n",
      "Epoch 70/5000\n",
      "1000/1000 [==============================] - 0s 49us/step - loss: 132.7671\n",
      "Epoch 71/5000\n",
      "1000/1000 [==============================] - 0s 48us/step - loss: 132.3156\n",
      "Epoch 72/5000\n",
      "1000/1000 [==============================] - 0s 53us/step - loss: 135.6726\n",
      "Epoch 73/5000\n",
      "1000/1000 [==============================] - 0s 50us/step - loss: 129.9776\n",
      "Epoch 74/5000\n",
      "1000/1000 [==============================] - 0s 49us/step - loss: 128.0570\n",
      "Epoch 75/5000\n",
      "1000/1000 [==============================] - 0s 49us/step - loss: 128.1419\n",
      "Epoch 76/5000\n",
      "1000/1000 [==============================] - 0s 57us/step - loss: 150.0281\n",
      "Epoch 77/5000\n",
      "1000/1000 [==============================] - 0s 57us/step - loss: 121.6326\n",
      "Epoch 78/5000\n",
      "1000/1000 [==============================] - 0s 60us/step - loss: 121.9009\n",
      "Epoch 79/5000\n",
      "1000/1000 [==============================] - 0s 54us/step - loss: 120.5642\n",
      "Epoch 80/5000\n",
      "1000/1000 [==============================] - 0s 57us/step - loss: 113.4709\n",
      "Epoch 81/5000\n",
      "1000/1000 [==============================] - 0s 59us/step - loss: 114.1235\n",
      "Epoch 82/5000\n",
      "1000/1000 [==============================] - 0s 54us/step - loss: 113.9286\n",
      "Epoch 83/5000\n",
      "1000/1000 [==============================] - 0s 57us/step - loss: 111.8500\n",
      "Epoch 84/5000\n",
      "1000/1000 [==============================] - 0s 57us/step - loss: 108.9907\n",
      "Epoch 85/5000\n",
      "1000/1000 [==============================] - 0s 54us/step - loss: 107.0690\n",
      "Epoch 86/5000\n",
      "1000/1000 [==============================] - 0s 61us/step - loss: 104.3761\n",
      "Epoch 87/5000\n",
      "1000/1000 [==============================] - 0s 53us/step - loss: 105.1670\n",
      "Epoch 88/5000\n",
      "1000/1000 [==============================] - 0s 61us/step - loss: 108.3623\n",
      "Epoch 89/5000\n",
      "1000/1000 [==============================] - 0s 59us/step - loss: 118.4637\n",
      "Epoch 90/5000\n",
      "1000/1000 [==============================] - 0s 61us/step - loss: 107.6658\n",
      "Epoch 91/5000\n",
      "1000/1000 [==============================] - 0s 56us/step - loss: 111.6603\n",
      "Epoch 92/5000\n"
     ]
    },
    {
     "name": "stdout",
     "output_type": "stream",
     "text": [
      "1000/1000 [==============================] - 0s 52us/step - loss: 119.0409\n",
      "Epoch 93/5000\n",
      "1000/1000 [==============================] - 0s 59us/step - loss: 107.7568\n",
      "Epoch 94/5000\n",
      "1000/1000 [==============================] - 0s 59us/step - loss: 94.9340\n",
      "Epoch 95/5000\n",
      "1000/1000 [==============================] - 0s 66us/step - loss: 97.8777\n",
      "Epoch 96/5000\n",
      "1000/1000 [==============================] - 0s 61us/step - loss: 92.1157\n",
      "Epoch 97/5000\n",
      "1000/1000 [==============================] - 0s 58us/step - loss: 92.2036\n",
      "Epoch 98/5000\n",
      "1000/1000 [==============================] - 0s 65us/step - loss: 94.7436\n",
      "Epoch 99/5000\n",
      "1000/1000 [==============================] - 0s 62us/step - loss: 88.4808\n",
      "Epoch 100/5000\n",
      "1000/1000 [==============================] - 0s 57us/step - loss: 91.3321\n",
      "Epoch 101/5000\n",
      "1000/1000 [==============================] - 0s 60us/step - loss: 89.1152\n",
      "Epoch 102/5000\n",
      "1000/1000 [==============================] - 0s 59us/step - loss: 83.6056\n",
      "Epoch 103/5000\n",
      "1000/1000 [==============================] - 0s 65us/step - loss: 94.9754\n",
      "Epoch 104/5000\n",
      "1000/1000 [==============================] - 0s 64us/step - loss: 104.2572\n",
      "Epoch 105/5000\n",
      "1000/1000 [==============================] - 0s 63us/step - loss: 85.1095\n",
      "Epoch 106/5000\n",
      "1000/1000 [==============================] - 0s 57us/step - loss: 120.9816\n",
      "Epoch 107/5000\n",
      "1000/1000 [==============================] - 0s 62us/step - loss: 102.7683\n",
      "Epoch 108/5000\n",
      "1000/1000 [==============================] - 0s 60us/step - loss: 92.9202\n",
      "Epoch 109/5000\n",
      "1000/1000 [==============================] - 0s 57us/step - loss: 81.7439\n",
      "Epoch 110/5000\n",
      "1000/1000 [==============================] - 0s 57us/step - loss: 80.2940\n",
      "Epoch 111/5000\n",
      "1000/1000 [==============================] - 0s 60us/step - loss: 82.6996\n",
      "Epoch 112/5000\n",
      "1000/1000 [==============================] - 0s 58us/step - loss: 78.9992\n",
      "Epoch 113/5000\n",
      "1000/1000 [==============================] - 0s 62us/step - loss: 85.1711\n",
      "Epoch 114/5000\n",
      "1000/1000 [==============================] - 0s 62us/step - loss: 108.4902\n",
      "Epoch 115/5000\n",
      "1000/1000 [==============================] - 0s 61us/step - loss: 181.4170\n",
      "Epoch 116/5000\n",
      "1000/1000 [==============================] - 0s 57us/step - loss: 179.1736\n",
      "Epoch 117/5000\n",
      "1000/1000 [==============================] - 0s 57us/step - loss: 83.5272\n",
      "Epoch 118/5000\n",
      "1000/1000 [==============================] - 0s 57us/step - loss: 74.9764\n",
      "Epoch 119/5000\n",
      "1000/1000 [==============================] - 0s 56us/step - loss: 73.8455\n",
      "Epoch 120/5000\n",
      "1000/1000 [==============================] - 0s 55us/step - loss: 71.9128\n",
      "Epoch 121/5000\n",
      "1000/1000 [==============================] - 0s 56us/step - loss: 71.4423\n",
      "Epoch 122/5000\n",
      "1000/1000 [==============================] - 0s 55us/step - loss: 72.9693\n",
      "Epoch 123/5000\n",
      "1000/1000 [==============================] - 0s 54us/step - loss: 69.5500\n",
      "Epoch 124/5000\n",
      "1000/1000 [==============================] - 0s 55us/step - loss: 70.1004\n",
      "Epoch 125/5000\n",
      "1000/1000 [==============================] - 0s 53us/step - loss: 69.1711\n",
      "Epoch 126/5000\n",
      "1000/1000 [==============================] - 0s 56us/step - loss: 70.1223\n",
      "Epoch 127/5000\n",
      "1000/1000 [==============================] - 0s 57us/step - loss: 66.4447\n",
      "Epoch 128/5000\n",
      "1000/1000 [==============================] - 0s 54us/step - loss: 68.1021\n",
      "Epoch 129/5000\n",
      "1000/1000 [==============================] - 0s 58us/step - loss: 67.5676\n",
      "Epoch 130/5000\n",
      "1000/1000 [==============================] - 0s 54us/step - loss: 66.7826\n",
      "Epoch 131/5000\n",
      "1000/1000 [==============================] - 0s 53us/step - loss: 66.6111\n",
      "Epoch 132/5000\n",
      "1000/1000 [==============================] - 0s 54us/step - loss: 69.6618\n",
      "Epoch 133/5000\n",
      "1000/1000 [==============================] - 0s 52us/step - loss: 67.3709\n",
      "Epoch 134/5000\n",
      "1000/1000 [==============================] - 0s 57us/step - loss: 93.8978\n",
      "Epoch 135/5000\n",
      "1000/1000 [==============================] - 0s 53us/step - loss: 292.0864\n",
      "Epoch 136/5000\n",
      "1000/1000 [==============================] - 0s 57us/step - loss: 160.0290\n",
      "Epoch 137/5000\n",
      "1000/1000 [==============================] - 0s 49us/step - loss: 80.3980\n",
      "Epoch 138/5000\n",
      "1000/1000 [==============================] - 0s 55us/step - loss: 67.9183\n",
      "Epoch 139/5000\n",
      "1000/1000 [==============================] - 0s 52us/step - loss: 64.7838\n",
      "Epoch 140/5000\n",
      "1000/1000 [==============================] - 0s 51us/step - loss: 63.1498\n",
      "Epoch 141/5000\n",
      "1000/1000 [==============================] - 0s 56us/step - loss: 65.2893\n",
      "Epoch 142/5000\n",
      "1000/1000 [==============================] - 0s 56us/step - loss: 59.9842\n",
      "Epoch 143/5000\n",
      "1000/1000 [==============================] - 0s 55us/step - loss: 59.2978\n",
      "Epoch 144/5000\n",
      "1000/1000 [==============================] - 0s 52us/step - loss: 59.3022\n",
      "Epoch 145/5000\n",
      "1000/1000 [==============================] - 0s 54us/step - loss: 59.1233\n",
      "Epoch 146/5000\n",
      "1000/1000 [==============================] - 0s 57us/step - loss: 57.3838\n",
      "Epoch 147/5000\n",
      "1000/1000 [==============================] - 0s 54us/step - loss: 60.4928\n",
      "Epoch 148/5000\n",
      "1000/1000 [==============================] - 0s 59us/step - loss: 58.1028\n",
      "Epoch 149/5000\n",
      "1000/1000 [==============================] - 0s 53us/step - loss: 57.2204\n",
      "Epoch 150/5000\n",
      "1000/1000 [==============================] - 0s 52us/step - loss: 59.8321\n",
      "Epoch 151/5000\n",
      "1000/1000 [==============================] - 0s 49us/step - loss: 57.2526\n",
      "Epoch 152/5000\n",
      "1000/1000 [==============================] - 0s 50us/step - loss: 55.2659\n",
      "Epoch 153/5000\n",
      "1000/1000 [==============================] - 0s 56us/step - loss: 57.5540\n",
      "Epoch 154/5000\n",
      "1000/1000 [==============================] - 0s 57us/step - loss: 54.7304\n",
      "Epoch 155/5000\n",
      "1000/1000 [==============================] - 0s 54us/step - loss: 56.6420\n",
      "Epoch 156/5000\n",
      "1000/1000 [==============================] - 0s 49us/step - loss: 55.3361\n",
      "Epoch 157/5000\n",
      "1000/1000 [==============================] - 0s 54us/step - loss: 54.4924\n",
      "Epoch 158/5000\n",
      "1000/1000 [==============================] - 0s 50us/step - loss: 54.0822\n",
      "Epoch 159/5000\n",
      "1000/1000 [==============================] - 0s 54us/step - loss: 52.9087\n",
      "Epoch 160/5000\n",
      "1000/1000 [==============================] - 0s 48us/step - loss: 53.4855\n",
      "Epoch 161/5000\n",
      "1000/1000 [==============================] - 0s 57us/step - loss: 52.3831\n",
      "Epoch 162/5000\n",
      "  32/1000 [..............................] - ETA: 0s - loss: 1.8343"
     ]
    },
    {
     "ename": "KeyboardInterrupt",
     "evalue": "",
     "output_type": "error",
     "traceback": [
      "\u001b[1;31m---------------------------------------------------------------------------\u001b[0m",
      "\u001b[1;31mKeyboardInterrupt\u001b[0m                         Traceback (most recent call last)",
      "\u001b[1;32m<ipython-input-12-f14b9dcff22a>\u001b[0m in \u001b[0;36m<module>\u001b[1;34m()\u001b[0m\n\u001b[1;32m----> 1\u001b[1;33m \u001b[0mmodel\u001b[0m\u001b[1;33m.\u001b[0m\u001b[0mfit\u001b[0m\u001b[1;33m(\u001b[0m\u001b[0mX\u001b[0m\u001b[1;33m,\u001b[0m\u001b[0mY\u001b[0m\u001b[1;33m,\u001b[0m\u001b[0mepochs\u001b[0m\u001b[1;33m=\u001b[0m\u001b[1;36m5000\u001b[0m\u001b[1;33m)\u001b[0m\u001b[1;33m\u001b[0m\u001b[0m\n\u001b[0m",
      "\u001b[1;32mD:\\LLAS\\lib\\site-packages\\keras\\models.py\u001b[0m in \u001b[0;36mfit\u001b[1;34m(self, x, y, batch_size, epochs, verbose, callbacks, validation_split, validation_data, shuffle, class_weight, sample_weight, initial_epoch, steps_per_epoch, validation_steps, **kwargs)\u001b[0m\n\u001b[0;32m    961\u001b[0m                               \u001b[0minitial_epoch\u001b[0m\u001b[1;33m=\u001b[0m\u001b[0minitial_epoch\u001b[0m\u001b[1;33m,\u001b[0m\u001b[1;33m\u001b[0m\u001b[0m\n\u001b[0;32m    962\u001b[0m                               \u001b[0msteps_per_epoch\u001b[0m\u001b[1;33m=\u001b[0m\u001b[0msteps_per_epoch\u001b[0m\u001b[1;33m,\u001b[0m\u001b[1;33m\u001b[0m\u001b[0m\n\u001b[1;32m--> 963\u001b[1;33m                               validation_steps=validation_steps)\n\u001b[0m\u001b[0;32m    964\u001b[0m \u001b[1;33m\u001b[0m\u001b[0m\n\u001b[0;32m    965\u001b[0m     def evaluate(self, x=None, y=None,\n",
      "\u001b[1;32mD:\\LLAS\\lib\\site-packages\\keras\\engine\\training.py\u001b[0m in \u001b[0;36mfit\u001b[1;34m(self, x, y, batch_size, epochs, verbose, callbacks, validation_split, validation_data, shuffle, class_weight, sample_weight, initial_epoch, steps_per_epoch, validation_steps, **kwargs)\u001b[0m\n\u001b[0;32m   1710\u001b[0m                               \u001b[0minitial_epoch\u001b[0m\u001b[1;33m=\u001b[0m\u001b[0minitial_epoch\u001b[0m\u001b[1;33m,\u001b[0m\u001b[1;33m\u001b[0m\u001b[0m\n\u001b[0;32m   1711\u001b[0m                               \u001b[0msteps_per_epoch\u001b[0m\u001b[1;33m=\u001b[0m\u001b[0msteps_per_epoch\u001b[0m\u001b[1;33m,\u001b[0m\u001b[1;33m\u001b[0m\u001b[0m\n\u001b[1;32m-> 1712\u001b[1;33m                               validation_steps=validation_steps)\n\u001b[0m\u001b[0;32m   1713\u001b[0m \u001b[1;33m\u001b[0m\u001b[0m\n\u001b[0;32m   1714\u001b[0m     def evaluate(self, x=None, y=None,\n",
      "\u001b[1;32mD:\\LLAS\\lib\\site-packages\\keras\\engine\\training.py\u001b[0m in \u001b[0;36m_fit_loop\u001b[1;34m(self, f, ins, out_labels, batch_size, epochs, verbose, callbacks, val_f, val_ins, shuffle, callback_metrics, initial_epoch, steps_per_epoch, validation_steps)\u001b[0m\n\u001b[0;32m   1233\u001b[0m                         \u001b[0mins_batch\u001b[0m\u001b[1;33m[\u001b[0m\u001b[0mi\u001b[0m\u001b[1;33m]\u001b[0m \u001b[1;33m=\u001b[0m \u001b[0mins_batch\u001b[0m\u001b[1;33m[\u001b[0m\u001b[0mi\u001b[0m\u001b[1;33m]\u001b[0m\u001b[1;33m.\u001b[0m\u001b[0mtoarray\u001b[0m\u001b[1;33m(\u001b[0m\u001b[1;33m)\u001b[0m\u001b[1;33m\u001b[0m\u001b[0m\n\u001b[0;32m   1234\u001b[0m \u001b[1;33m\u001b[0m\u001b[0m\n\u001b[1;32m-> 1235\u001b[1;33m                     \u001b[0mouts\u001b[0m \u001b[1;33m=\u001b[0m \u001b[0mf\u001b[0m\u001b[1;33m(\u001b[0m\u001b[0mins_batch\u001b[0m\u001b[1;33m)\u001b[0m\u001b[1;33m\u001b[0m\u001b[0m\n\u001b[0m\u001b[0;32m   1236\u001b[0m                     \u001b[1;32mif\u001b[0m \u001b[1;32mnot\u001b[0m \u001b[0misinstance\u001b[0m\u001b[1;33m(\u001b[0m\u001b[0mouts\u001b[0m\u001b[1;33m,\u001b[0m \u001b[0mlist\u001b[0m\u001b[1;33m)\u001b[0m\u001b[1;33m:\u001b[0m\u001b[1;33m\u001b[0m\u001b[0m\n\u001b[0;32m   1237\u001b[0m                         \u001b[0mouts\u001b[0m \u001b[1;33m=\u001b[0m \u001b[1;33m[\u001b[0m\u001b[0mouts\u001b[0m\u001b[1;33m]\u001b[0m\u001b[1;33m\u001b[0m\u001b[0m\n",
      "\u001b[1;32mD:\\LLAS\\lib\\site-packages\\keras\\backend\\tensorflow_backend.py\u001b[0m in \u001b[0;36m__call__\u001b[1;34m(self, inputs)\u001b[0m\n\u001b[0;32m   2473\u001b[0m         \u001b[0msession\u001b[0m \u001b[1;33m=\u001b[0m \u001b[0mget_session\u001b[0m\u001b[1;33m(\u001b[0m\u001b[1;33m)\u001b[0m\u001b[1;33m\u001b[0m\u001b[0m\n\u001b[0;32m   2474\u001b[0m         updated = session.run(fetches=fetches, feed_dict=feed_dict,\n\u001b[1;32m-> 2475\u001b[1;33m                               **self.session_kwargs)\n\u001b[0m\u001b[0;32m   2476\u001b[0m         \u001b[1;32mreturn\u001b[0m \u001b[0mupdated\u001b[0m\u001b[1;33m[\u001b[0m\u001b[1;33m:\u001b[0m\u001b[0mlen\u001b[0m\u001b[1;33m(\u001b[0m\u001b[0mself\u001b[0m\u001b[1;33m.\u001b[0m\u001b[0moutputs\u001b[0m\u001b[1;33m)\u001b[0m\u001b[1;33m]\u001b[0m\u001b[1;33m\u001b[0m\u001b[0m\n\u001b[0;32m   2477\u001b[0m \u001b[1;33m\u001b[0m\u001b[0m\n",
      "\u001b[1;32mD:\\LLAS\\lib\\site-packages\\tensorflow\\python\\client\\session.py\u001b[0m in \u001b[0;36mrun\u001b[1;34m(self, fetches, feed_dict, options, run_metadata)\u001b[0m\n\u001b[0;32m    893\u001b[0m     \u001b[1;32mtry\u001b[0m\u001b[1;33m:\u001b[0m\u001b[1;33m\u001b[0m\u001b[0m\n\u001b[0;32m    894\u001b[0m       result = self._run(None, fetches, feed_dict, options_ptr,\n\u001b[1;32m--> 895\u001b[1;33m                          run_metadata_ptr)\n\u001b[0m\u001b[0;32m    896\u001b[0m       \u001b[1;32mif\u001b[0m \u001b[0mrun_metadata\u001b[0m\u001b[1;33m:\u001b[0m\u001b[1;33m\u001b[0m\u001b[0m\n\u001b[0;32m    897\u001b[0m         \u001b[0mproto_data\u001b[0m \u001b[1;33m=\u001b[0m \u001b[0mtf_session\u001b[0m\u001b[1;33m.\u001b[0m\u001b[0mTF_GetBuffer\u001b[0m\u001b[1;33m(\u001b[0m\u001b[0mrun_metadata_ptr\u001b[0m\u001b[1;33m)\u001b[0m\u001b[1;33m\u001b[0m\u001b[0m\n",
      "\u001b[1;32mD:\\LLAS\\lib\\site-packages\\tensorflow\\python\\client\\session.py\u001b[0m in \u001b[0;36m_run\u001b[1;34m(self, handle, fetches, feed_dict, options, run_metadata)\u001b[0m\n\u001b[0;32m   1126\u001b[0m     \u001b[1;32mif\u001b[0m \u001b[0mfinal_fetches\u001b[0m \u001b[1;32mor\u001b[0m \u001b[0mfinal_targets\u001b[0m \u001b[1;32mor\u001b[0m \u001b[1;33m(\u001b[0m\u001b[0mhandle\u001b[0m \u001b[1;32mand\u001b[0m \u001b[0mfeed_dict_tensor\u001b[0m\u001b[1;33m)\u001b[0m\u001b[1;33m:\u001b[0m\u001b[1;33m\u001b[0m\u001b[0m\n\u001b[0;32m   1127\u001b[0m       results = self._do_run(handle, final_targets, final_fetches,\n\u001b[1;32m-> 1128\u001b[1;33m                              feed_dict_tensor, options, run_metadata)\n\u001b[0m\u001b[0;32m   1129\u001b[0m     \u001b[1;32melse\u001b[0m\u001b[1;33m:\u001b[0m\u001b[1;33m\u001b[0m\u001b[0m\n\u001b[0;32m   1130\u001b[0m       \u001b[0mresults\u001b[0m \u001b[1;33m=\u001b[0m \u001b[1;33m[\u001b[0m\u001b[1;33m]\u001b[0m\u001b[1;33m\u001b[0m\u001b[0m\n",
      "\u001b[1;32mD:\\LLAS\\lib\\site-packages\\tensorflow\\python\\client\\session.py\u001b[0m in \u001b[0;36m_do_run\u001b[1;34m(self, handle, target_list, fetch_list, feed_dict, options, run_metadata)\u001b[0m\n\u001b[0;32m   1342\u001b[0m     \u001b[1;32mif\u001b[0m \u001b[0mhandle\u001b[0m \u001b[1;32mis\u001b[0m \u001b[1;32mNone\u001b[0m\u001b[1;33m:\u001b[0m\u001b[1;33m\u001b[0m\u001b[0m\n\u001b[0;32m   1343\u001b[0m       return self._do_call(_run_fn, self._session, feeds, fetches, targets,\n\u001b[1;32m-> 1344\u001b[1;33m                            options, run_metadata)\n\u001b[0m\u001b[0;32m   1345\u001b[0m     \u001b[1;32melse\u001b[0m\u001b[1;33m:\u001b[0m\u001b[1;33m\u001b[0m\u001b[0m\n\u001b[0;32m   1346\u001b[0m       \u001b[1;32mreturn\u001b[0m \u001b[0mself\u001b[0m\u001b[1;33m.\u001b[0m\u001b[0m_do_call\u001b[0m\u001b[1;33m(\u001b[0m\u001b[0m_prun_fn\u001b[0m\u001b[1;33m,\u001b[0m \u001b[0mself\u001b[0m\u001b[1;33m.\u001b[0m\u001b[0m_session\u001b[0m\u001b[1;33m,\u001b[0m \u001b[0mhandle\u001b[0m\u001b[1;33m,\u001b[0m \u001b[0mfeeds\u001b[0m\u001b[1;33m,\u001b[0m \u001b[0mfetches\u001b[0m\u001b[1;33m)\u001b[0m\u001b[1;33m\u001b[0m\u001b[0m\n",
      "\u001b[1;32mD:\\LLAS\\lib\\site-packages\\tensorflow\\python\\client\\session.py\u001b[0m in \u001b[0;36m_do_call\u001b[1;34m(self, fn, *args)\u001b[0m\n\u001b[0;32m   1348\u001b[0m   \u001b[1;32mdef\u001b[0m \u001b[0m_do_call\u001b[0m\u001b[1;33m(\u001b[0m\u001b[0mself\u001b[0m\u001b[1;33m,\u001b[0m \u001b[0mfn\u001b[0m\u001b[1;33m,\u001b[0m \u001b[1;33m*\u001b[0m\u001b[0margs\u001b[0m\u001b[1;33m)\u001b[0m\u001b[1;33m:\u001b[0m\u001b[1;33m\u001b[0m\u001b[0m\n\u001b[0;32m   1349\u001b[0m     \u001b[1;32mtry\u001b[0m\u001b[1;33m:\u001b[0m\u001b[1;33m\u001b[0m\u001b[0m\n\u001b[1;32m-> 1350\u001b[1;33m       \u001b[1;32mreturn\u001b[0m \u001b[0mfn\u001b[0m\u001b[1;33m(\u001b[0m\u001b[1;33m*\u001b[0m\u001b[0margs\u001b[0m\u001b[1;33m)\u001b[0m\u001b[1;33m\u001b[0m\u001b[0m\n\u001b[0m\u001b[0;32m   1351\u001b[0m     \u001b[1;32mexcept\u001b[0m \u001b[0merrors\u001b[0m\u001b[1;33m.\u001b[0m\u001b[0mOpError\u001b[0m \u001b[1;32mas\u001b[0m \u001b[0me\u001b[0m\u001b[1;33m:\u001b[0m\u001b[1;33m\u001b[0m\u001b[0m\n\u001b[0;32m   1352\u001b[0m       \u001b[0mmessage\u001b[0m \u001b[1;33m=\u001b[0m \u001b[0mcompat\u001b[0m\u001b[1;33m.\u001b[0m\u001b[0mas_text\u001b[0m\u001b[1;33m(\u001b[0m\u001b[0me\u001b[0m\u001b[1;33m.\u001b[0m\u001b[0mmessage\u001b[0m\u001b[1;33m)\u001b[0m\u001b[1;33m\u001b[0m\u001b[0m\n",
      "\u001b[1;32mD:\\LLAS\\lib\\site-packages\\tensorflow\\python\\client\\session.py\u001b[0m in \u001b[0;36m_run_fn\u001b[1;34m(session, feed_dict, fetch_list, target_list, options, run_metadata)\u001b[0m\n\u001b[0;32m   1327\u001b[0m           return tf_session.TF_Run(session, options,\n\u001b[0;32m   1328\u001b[0m                                    \u001b[0mfeed_dict\u001b[0m\u001b[1;33m,\u001b[0m \u001b[0mfetch_list\u001b[0m\u001b[1;33m,\u001b[0m \u001b[0mtarget_list\u001b[0m\u001b[1;33m,\u001b[0m\u001b[1;33m\u001b[0m\u001b[0m\n\u001b[1;32m-> 1329\u001b[1;33m                                    status, run_metadata)\n\u001b[0m\u001b[0;32m   1330\u001b[0m \u001b[1;33m\u001b[0m\u001b[0m\n\u001b[0;32m   1331\u001b[0m     \u001b[1;32mdef\u001b[0m \u001b[0m_prun_fn\u001b[0m\u001b[1;33m(\u001b[0m\u001b[0msession\u001b[0m\u001b[1;33m,\u001b[0m \u001b[0mhandle\u001b[0m\u001b[1;33m,\u001b[0m \u001b[0mfeed_dict\u001b[0m\u001b[1;33m,\u001b[0m \u001b[0mfetch_list\u001b[0m\u001b[1;33m)\u001b[0m\u001b[1;33m:\u001b[0m\u001b[1;33m\u001b[0m\u001b[0m\n",
      "\u001b[1;31mKeyboardInterrupt\u001b[0m: "
     ]
    }
   ],
   "source": [
    "model.fit(X,Y,epochs=5000)"
   ]
  },
  {
   "cell_type": "code",
   "execution_count": 13,
   "metadata": {},
   "outputs": [],
   "source": [
    "Y_=model.predict(X)"
   ]
  },
  {
   "cell_type": "code",
   "execution_count": 14,
   "metadata": {},
   "outputs": [
    {
     "data": {
      "text/plain": [
       "[<matplotlib.lines.Line2D at 0x20485b32208>]"
      ]
     },
     "execution_count": 14,
     "metadata": {},
     "output_type": "execute_result"
    },
    {
     "data": {
      "image/png": "[encoded data removed]",
      "text/plain": [
       "<matplotlib.figure.Figure at 0x20485b321d0>"
      ]
     },
     "metadata": {},
     "output_type": "display_data"
    }
   ],
   "source": [
    "pp.plot(X,Y,\"ro\")\n",
    "pp.plot(X,Y_,\"ro\",color='g')"
   ]
  },
  {
   "cell_type": "code",
   "execution_count": null,
   "metadata": {},
   "outputs": [],
   "source": []
  }
 ],
 "metadata": {
  "kernelspec": {
   "display_name": "Python 3",
   "language": "python",
   "name": "python3"
  },
  "language_info": {
   "codemirror_mode": {
    "name": "ipython",
    "version": 3
   },
   "file_extension": ".py",
   "mimetype": "text/x-python",
   "name": "python",
   "nbconvert_exporter": "python",
   "pygments_lexer": "ipython3",
   "version": "3.6.4"
  }
 },
 "nbformat": 4,
 "nbformat_minor": 2
}
