{
 "cells": [
  {
   "cell_type": "markdown",
   "metadata": {},
   "source": [
    "<h1>Import lib</h1>"
   ]
  },
  {
   "cell_type": "code",
   "execution_count": 33,
   "metadata": {},
   "outputs": [],
   "source": [
    "import keras\n",
    "import numpy as np\n",
    "import matplotlib.pyplot as pp"
   ]
  },
  {
   "cell_type": "markdown",
   "metadata": {},
   "source": [
    "<h2>Make function's input data</h2>"
   ]
  },
  {
   "cell_type": "code",
   "execution_count": 62,
   "metadata": {
    "scrolled": true
   },
   "outputs": [
    {
     "data": {
      "text/plain": [
       "[<matplotlib.lines.Line2D at 0x18feed30748>]"
      ]
     },
     "execution_count": 62,
     "metadata": {},
     "output_type": "execute_result"
    },
    {
     "data": {
      "image/png": "[encoded data removed]",
      "text/plain": [
       "<matplotlib.figure.Figure at 0x18feed26c18>"
      ]
     },
     "metadata": {},
     "output_type": "display_data"
    }
   ],
   "source": [
    "x_shape=(500)\n",
    "Y_TMP=np.arange(0,170,1)\n",
    "X1=np.arange(-20,150,1)\n",
    "X2=np.arange(80,-90,-1)\n",
    "loop_cnt=0\n",
    "for i in X2:\n",
    "    if(loop_cnt>90):\n",
    "        X2[loop_cnt]=i+25\n",
    "    if(loop_cnt>150 or loop_cnt<30):\n",
    "        X2[loop_cnt]=abs(i)-30\n",
    "    loop_cnt+=1\n",
    "pp.plot(Y_TMP,X2,\"ro\",color=\"grey\")\n",
    "pp.plot(Y_TMP,X1,\"ro\",color=\"pink\")"
   ]
  },
  {
   "cell_type": "code",
   "execution_count": 54,
   "metadata": {},
   "outputs": [],
   "source": [
    "def abs(x):\n",
    "    if(x>0):\n",
    "        return x\n",
    "    else:\n",
    "        return -x"
   ]
  },
  {
   "cell_type": "code",
   "execution_count": 66,
   "metadata": {},
   "outputs": [
    {
     "name": "stdout",
     "output_type": "stream",
     "text": [
      "[65.61021615] [-49.97937223]\n"
     ]
    }
   ],
   "source": [
    "def random():\n",
    "    return np.random.randint(-100,100)*np.random.random(1)\n",
    "a=random()\n",
    "b=random()\n",
    "Y=[]\n",
    "loop_tmp=0\n",
    "for i in X1:\n",
    "    Y.append(X1[loop_tmp]*)"
   ]
  },
  {
   "cell_type": "code",
   "execution_count": null,
   "metadata": {},
   "outputs": [],
   "source": []
  },
  {
   "cell_type": "code",
   "execution_count": null,
   "metadata": {},
   "outputs": [],
   "source": []
  }
 ],
 "metadata": {
  "kernelspec": {
   "display_name": "Python 3",
   "language": "python",
   "name": "python3"
  },
  "language_info": {
   "codemirror_mode": {
    "name": "ipython",
    "version": 3
   },
   "file_extension": ".py",
   "mimetype": "text/x-python",
   "name": "python",
   "nbconvert_exporter": "python",
   "pygments_lexer": "ipython3",
   "version": "3.6.4"
  }
 },
 "nbformat": 4,
 "nbformat_minor": 2
}
